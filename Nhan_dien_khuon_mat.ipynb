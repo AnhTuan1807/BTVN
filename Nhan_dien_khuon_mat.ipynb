{
  "cells": [
    {
      "cell_type": "markdown",
      "metadata": {
        "id": "view-in-github",
        "colab_type": "text"
      },
      "source": [
        "<a href=\"https://colab.research.google.com/github/AnhTuan1807/BTVN/blob/main/Nhan_dien_khuon_mat.ipynb\" target=\"_parent\"><img src=\"https://colab.research.google.com/assets/colab-badge.svg\" alt=\"Open In Colab\"/></a>"
      ]
    },
    {
      "cell_type": "code",
      "execution_count": 51,
      "metadata": {
        "id": "zVUY_Pnv9Ddu"
      },
      "outputs": [],
      "source": [
        "#Khai bao cac thu vien can su dung\n",
        "from sklearn.model_selection import train_test_split\n",
        "import matplotlib.pyplot as plt\n",
        "import numpy as np\n",
        "import tensorflow as tf\n",
        "from keras.utils import np_utils\n",
        "from keras.models import Sequential\n",
        "from keras.layers import Dense, Activation, Dropout, Conv2D, MaxPooling2D, Flatten\n",
        "from tensorflow.keras.optimizers import SGD, RMSprop\n",
        "from keras.callbacks import EarlyStopping, ModelCheckpoint\n",
        "from sklearn.utils import validation \n",
        "from sklearn import preprocessing\n",
        "from tensorflow.keras.utils import to_categorical\n",
        "from tensorflow.keras.models import load_model\n",
        "from tensorflow.keras.utils import load_img, img_to_array\n",
        "from tensorflow.keras.preprocessing.image import ImageDataGenerator"
      ]
    },
    {
      "cell_type": "code",
      "execution_count": 52,
      "metadata": {
        "colab": {
          "base_uri": "https://localhost:8080/"
        },
        "id": "O2ozvd109Ed1",
        "outputId": "106b3b02-ec99-4d0d-b7d6-d55f9858720c"
      },
      "outputs": [
        {
          "output_type": "stream",
          "name": "stdout",
          "text": [
            "Drive already mounted at /content/drive; to attempt to forcibly remount, call drive.mount(\"/content/drive\", force_remount=True).\n"
          ]
        }
      ],
      "source": [
        "#Ket noi voi google drive\n",
        "from google.colab import drive\n",
        "drive.mount('/content/drive')"
      ]
    },
    {
      "cell_type": "code",
      "execution_count": 53,
      "metadata": {
        "id": "-1Kv0_jm9J6T"
      },
      "outputs": [],
      "source": [
        "# Tao ra class ImageDataGenerator de chinh sua anh \n",
        "train_datagen = ImageDataGenerator(rescale=1./255, shear_range=0.2, zoom_range=0.2, horizontal_flip=True)\n",
        "test_datagen = ImageDataGenerator(rescale=1./255)"
      ]
    },
    {
      "cell_type": "code",
      "execution_count": 54,
      "metadata": {
        "colab": {
          "base_uri": "https://localhost:8080/"
        },
        "id": "M-MzE5Sc9MMk",
        "outputId": "dbbc080e-9618-4ccf-94a2-9e6036361544"
      },
      "outputs": [
        {
          "output_type": "stream",
          "name": "stdout",
          "text": [
            "Found 138 images belonging to 3 classes.\n"
          ]
        }
      ],
      "source": [
        "training_set = train_datagen.flow_from_directory('/content/drive/MyDrive/Khuon mat/Train', target_size=(224,224), batch_size=32, class_mode='categorical')"
      ]
    },
    {
      "cell_type": "code",
      "execution_count": 55,
      "metadata": {
        "colab": {
          "base_uri": "https://localhost:8080/"
        },
        "id": "j8e5PVb89NJw",
        "outputId": "7833418c-f148-4155-ea83-a8e81987ebf3"
      },
      "outputs": [
        {
          "output_type": "stream",
          "name": "stdout",
          "text": [
            "Found 72 images belonging to 3 classes.\n"
          ]
        }
      ],
      "source": [
        "# Tao bo du lieu test\n",
        "test_set = train_datagen.flow_from_directory('/content/drive/MyDrive/Khuon mat/Test', target_size=(224,224), batch_size=32, class_mode='categorical')"
      ]
    },
    {
      "cell_type": "code",
      "execution_count": 56,
      "metadata": {
        "colab": {
          "base_uri": "https://localhost:8080/"
        },
        "id": "f8dptxkR9Pe5",
        "outputId": "7a460031-ea2f-4266-b17d-061b249cf112"
      },
      "outputs": [
        {
          "output_type": "execute_result",
          "data": {
            "text/plain": [
              "{'BuiLeAnhVu': 0, 'NguyenHuuDuong': 1, 'VoAnhTuan': 2}"
            ]
          },
          "metadata": {},
          "execution_count": 56
        }
      ],
      "source": [
        "# Cac nhan co trong bo du lieu training\n",
        "training_set.class_indices"
      ]
    },
    {
      "cell_type": "code",
      "execution_count": 57,
      "metadata": {
        "colab": {
          "base_uri": "https://localhost:8080/"
        },
        "id": "r8j9Dkm59R0L",
        "outputId": "ab301402-a65d-4e32-990e-7e9e7c1f5f1c"
      },
      "outputs": [
        {
          "output_type": "execute_result",
          "data": {
            "text/plain": [
              "{'BuiLeAnhVu': 0, 'NguyenHuuDuong': 1, 'VoAnhTuan': 2}"
            ]
          },
          "metadata": {},
          "execution_count": 57
        }
      ],
      "source": [
        "# Cac nhan co trong bo du lieu test\n",
        "test_set.class_indices"
      ]
    },
    {
      "cell_type": "code",
      "execution_count": 58,
      "metadata": {
        "colab": {
          "base_uri": "https://localhost:8080/"
        },
        "id": "qQqOD1GN9T74",
        "outputId": "e839c92f-c0ed-4014-c281-887c2e387482"
      },
      "outputs": [
        {
          "output_type": "stream",
          "name": "stdout",
          "text": [
            "(138, 224, 224, 3)\n",
            "(138, 3)\n"
          ]
        }
      ],
      "source": [
        "x_train = np.concatenate([training_set.next()[0] for i in range(training_set.__len__())])\n",
        "y_train = np.concatenate([training_set.next()[1] for i in range(training_set.__len__())])\n",
        "print(x_train.shape)\n",
        "print(y_train.shape)"
      ]
    },
    {
      "cell_type": "code",
      "execution_count": 59,
      "metadata": {
        "colab": {
          "base_uri": "https://localhost:8080/"
        },
        "id": "MrS8KIx79YE1",
        "outputId": "a0a15c70-e8e8-4b31-b37c-a212c20d97ac"
      },
      "outputs": [
        {
          "output_type": "stream",
          "name": "stdout",
          "text": [
            "(72, 224, 224, 3)\n",
            "(72, 3)\n"
          ]
        }
      ],
      "source": [
        "x_test = np.concatenate([test_set.next()[0] for i in range(test_set.__len__())])\n",
        "y_test = np.concatenate([test_set.next()[1] for i in range(test_set.__len__())])\n",
        "print(x_test.shape)\n",
        "print(y_test.shape)"
      ]
    },
    {
      "cell_type": "code",
      "execution_count": 60,
      "metadata": {
        "colab": {
          "base_uri": "https://localhost:8080/"
        },
        "id": "6kcRvw7K9cf1",
        "outputId": "ee700522-ca2d-449e-e077-259d6692c624"
      },
      "outputs": [
        {
          "output_type": "stream",
          "name": "stdout",
          "text": [
            "Model: \"sequential_1\"\n",
            "_________________________________________________________________\n",
            " Layer (type)                Output Shape              Param #   \n",
            "=================================================================\n",
            " conv2d_3 (Conv2D)           (None, 224, 224, 32)      896       \n",
            "                                                                 \n",
            " max_pooling2d_3 (MaxPooling  (None, 112, 112, 32)     0         \n",
            " 2D)                                                             \n",
            "                                                                 \n",
            " conv2d_4 (Conv2D)           (None, 112, 112, 64)      18496     \n",
            "                                                                 \n",
            " max_pooling2d_4 (MaxPooling  (None, 56, 56, 64)       0         \n",
            " 2D)                                                             \n",
            "                                                                 \n",
            " conv2d_5 (Conv2D)           (None, 56, 56, 128)       73856     \n",
            "                                                                 \n",
            " max_pooling2d_5 (MaxPooling  (None, 28, 28, 128)      0         \n",
            " 2D)                                                             \n",
            "                                                                 \n",
            " flatten_1 (Flatten)         (None, 100352)            0         \n",
            "                                                                 \n",
            " dense_2 (Dense)             (None, 128)               12845184  \n",
            "                                                                 \n",
            " dense_3 (Dense)             (None, 3)                 387       \n",
            "                                                                 \n",
            "=================================================================\n",
            "Total params: 12,938,819\n",
            "Trainable params: 12,938,819\n",
            "Non-trainable params: 0\n",
            "_________________________________________________________________\n"
          ]
        }
      ],
      "source": [
        "from keras.models import Sequential, Model\n",
        "from keras.layers import Dense, Dropout, Flatten, Conv2D, MaxPooling2D\n",
        "\n",
        "model = Sequential()\n",
        "model.add(Conv2D(32, kernel_size=(3,3), activation=\"relu\", input_shape=(224,224,3), padding=\"same\"))\n",
        "model.add(MaxPooling2D((2,2), padding=\"same\"))\n",
        "model.add(Conv2D(64, kernel_size=(3,3), activation=\"relu\", padding=\"same\"))\n",
        "model.add(MaxPooling2D((2,2), padding=\"same\"))\n",
        "model.add(Conv2D(128, kernel_size=(3,3), activation=\"relu\", padding=\"same\"))\n",
        "model.add(MaxPooling2D((2,2), padding=\"same\"))\n",
        "model.add(Flatten())\n",
        "model.add(Dense(128, activation=\"relu\"))\n",
        "model.add(Dense(3, activation=\"softmax\"))\n",
        "\n",
        "model.summary()"
      ]
    },
    {
      "cell_type": "code",
      "execution_count": 61,
      "metadata": {
        "id": "F_XQpQqf9ewe"
      },
      "outputs": [],
      "source": [
        "model.compile(loss=\"categorical_crossentropy\", metrics=[\"accuracy\"], optimizer=\"adam\")"
      ]
    },
    {
      "cell_type": "code",
      "execution_count": 62,
      "metadata": {
        "colab": {
          "base_uri": "https://localhost:8080/"
        },
        "id": "oY9DUZug9gTN",
        "outputId": "e2cb7820-5821-4d8b-b6ad-f3e45a4b53d5"
      },
      "outputs": [
        {
          "output_type": "stream",
          "name": "stdout",
          "text": [
            "Epoch 1/200\n",
            "5/5 - 1s - loss: 3.6839 - accuracy: 0.3261 - 981ms/epoch - 196ms/step\n",
            "Epoch 2/200\n",
            "5/5 - 0s - loss: 1.1085 - accuracy: 0.2899 - 241ms/epoch - 48ms/step\n",
            "Epoch 3/200\n",
            "5/5 - 0s - loss: 1.0887 - accuracy: 0.3841 - 245ms/epoch - 49ms/step\n",
            "Epoch 4/200\n",
            "5/5 - 0s - loss: 1.0851 - accuracy: 0.3841 - 242ms/epoch - 48ms/step\n",
            "Epoch 5/200\n",
            "5/5 - 0s - loss: 1.0689 - accuracy: 0.3913 - 249ms/epoch - 50ms/step\n",
            "Epoch 6/200\n",
            "5/5 - 0s - loss: 1.0346 - accuracy: 0.4565 - 244ms/epoch - 49ms/step\n",
            "Epoch 7/200\n",
            "5/5 - 0s - loss: 0.9719 - accuracy: 0.5290 - 245ms/epoch - 49ms/step\n",
            "Epoch 8/200\n",
            "5/5 - 0s - loss: 0.9013 - accuracy: 0.5725 - 240ms/epoch - 48ms/step\n",
            "Epoch 9/200\n",
            "5/5 - 0s - loss: 0.8919 - accuracy: 0.5725 - 243ms/epoch - 49ms/step\n",
            "Epoch 10/200\n",
            "5/5 - 0s - loss: 0.8017 - accuracy: 0.6159 - 240ms/epoch - 48ms/step\n",
            "Epoch 11/200\n",
            "5/5 - 0s - loss: 0.7044 - accuracy: 0.6812 - 245ms/epoch - 49ms/step\n",
            "Epoch 12/200\n",
            "5/5 - 0s - loss: 0.5852 - accuracy: 0.7681 - 240ms/epoch - 48ms/step\n",
            "Epoch 13/200\n",
            "5/5 - 0s - loss: 0.5084 - accuracy: 0.8116 - 244ms/epoch - 49ms/step\n",
            "Epoch 14/200\n",
            "5/5 - 0s - loss: 0.5525 - accuracy: 0.7464 - 243ms/epoch - 49ms/step\n",
            "Epoch 15/200\n",
            "5/5 - 0s - loss: 0.4902 - accuracy: 0.8333 - 242ms/epoch - 48ms/step\n",
            "Epoch 16/200\n",
            "5/5 - 0s - loss: 0.3791 - accuracy: 0.9130 - 245ms/epoch - 49ms/step\n",
            "Epoch 17/200\n",
            "5/5 - 0s - loss: 0.3200 - accuracy: 0.8913 - 243ms/epoch - 49ms/step\n",
            "Epoch 18/200\n",
            "5/5 - 0s - loss: 0.2279 - accuracy: 0.9130 - 248ms/epoch - 50ms/step\n",
            "Epoch 19/200\n",
            "5/5 - 0s - loss: 0.1864 - accuracy: 0.9493 - 239ms/epoch - 48ms/step\n",
            "Epoch 20/200\n",
            "5/5 - 0s - loss: 0.1440 - accuracy: 0.9493 - 242ms/epoch - 48ms/step\n",
            "Epoch 21/200\n",
            "5/5 - 0s - loss: 0.1482 - accuracy: 0.9710 - 241ms/epoch - 48ms/step\n",
            "Epoch 22/200\n",
            "5/5 - 0s - loss: 0.1029 - accuracy: 0.9710 - 241ms/epoch - 48ms/step\n",
            "Epoch 23/200\n",
            "5/5 - 0s - loss: 0.0889 - accuracy: 0.9783 - 242ms/epoch - 48ms/step\n",
            "Epoch 24/200\n",
            "5/5 - 0s - loss: 0.4003 - accuracy: 0.8841 - 240ms/epoch - 48ms/step\n",
            "Epoch 25/200\n",
            "5/5 - 0s - loss: 0.2793 - accuracy: 0.9275 - 242ms/epoch - 48ms/step\n",
            "Epoch 26/200\n",
            "5/5 - 0s - loss: 0.2885 - accuracy: 0.9348 - 240ms/epoch - 48ms/step\n",
            "Epoch 27/200\n",
            "5/5 - 0s - loss: 0.2110 - accuracy: 0.9420 - 245ms/epoch - 49ms/step\n",
            "Epoch 28/200\n",
            "5/5 - 0s - loss: 0.1057 - accuracy: 0.9928 - 243ms/epoch - 49ms/step\n",
            "Epoch 29/200\n",
            "5/5 - 0s - loss: 0.0706 - accuracy: 0.9928 - 246ms/epoch - 49ms/step\n",
            "Epoch 30/200\n",
            "5/5 - 0s - loss: 0.0258 - accuracy: 1.0000 - 245ms/epoch - 49ms/step\n",
            "Epoch 31/200\n",
            "5/5 - 0s - loss: 0.0158 - accuracy: 1.0000 - 243ms/epoch - 49ms/step\n",
            "Epoch 32/200\n",
            "5/5 - 0s - loss: 0.0111 - accuracy: 1.0000 - 240ms/epoch - 48ms/step\n",
            "Epoch 33/200\n",
            "5/5 - 0s - loss: 0.0194 - accuracy: 1.0000 - 243ms/epoch - 49ms/step\n",
            "Epoch 34/200\n",
            "5/5 - 0s - loss: 0.0382 - accuracy: 0.9855 - 243ms/epoch - 49ms/step\n",
            "Epoch 35/200\n",
            "5/5 - 0s - loss: 0.0248 - accuracy: 0.9928 - 240ms/epoch - 48ms/step\n",
            "Epoch 36/200\n",
            "5/5 - 0s - loss: 0.0098 - accuracy: 1.0000 - 244ms/epoch - 49ms/step\n",
            "Epoch 37/200\n",
            "5/5 - 0s - loss: 0.0177 - accuracy: 1.0000 - 246ms/epoch - 49ms/step\n",
            "Epoch 38/200\n",
            "5/5 - 0s - loss: 0.0063 - accuracy: 1.0000 - 243ms/epoch - 49ms/step\n",
            "Epoch 39/200\n",
            "5/5 - 0s - loss: 0.0026 - accuracy: 1.0000 - 248ms/epoch - 50ms/step\n",
            "Epoch 40/200\n",
            "5/5 - 0s - loss: 0.0024 - accuracy: 1.0000 - 244ms/epoch - 49ms/step\n",
            "Epoch 41/200\n",
            "5/5 - 0s - loss: 0.0014 - accuracy: 1.0000 - 239ms/epoch - 48ms/step\n",
            "Epoch 42/200\n",
            "5/5 - 0s - loss: 7.2970e-04 - accuracy: 1.0000 - 244ms/epoch - 49ms/step\n",
            "Epoch 43/200\n",
            "5/5 - 0s - loss: 5.4704e-04 - accuracy: 1.0000 - 244ms/epoch - 49ms/step\n",
            "Epoch 44/200\n",
            "5/5 - 0s - loss: 4.9157e-04 - accuracy: 1.0000 - 245ms/epoch - 49ms/step\n",
            "Epoch 45/200\n",
            "5/5 - 0s - loss: 4.2309e-04 - accuracy: 1.0000 - 241ms/epoch - 48ms/step\n",
            "Epoch 46/200\n",
            "5/5 - 0s - loss: 3.6433e-04 - accuracy: 1.0000 - 248ms/epoch - 50ms/step\n",
            "Epoch 47/200\n",
            "5/5 - 0s - loss: 3.2022e-04 - accuracy: 1.0000 - 245ms/epoch - 49ms/step\n",
            "Epoch 48/200\n",
            "5/5 - 0s - loss: 2.7997e-04 - accuracy: 1.0000 - 239ms/epoch - 48ms/step\n",
            "Epoch 49/200\n",
            "5/5 - 0s - loss: 2.5788e-04 - accuracy: 1.0000 - 239ms/epoch - 48ms/step\n",
            "Epoch 50/200\n",
            "5/5 - 0s - loss: 2.4224e-04 - accuracy: 1.0000 - 241ms/epoch - 48ms/step\n",
            "Epoch 51/200\n",
            "5/5 - 0s - loss: 2.0985e-04 - accuracy: 1.0000 - 246ms/epoch - 49ms/step\n",
            "Epoch 52/200\n",
            "5/5 - 0s - loss: 1.9547e-04 - accuracy: 1.0000 - 246ms/epoch - 49ms/step\n",
            "Epoch 53/200\n",
            "5/5 - 0s - loss: 1.8066e-04 - accuracy: 1.0000 - 244ms/epoch - 49ms/step\n",
            "Epoch 54/200\n",
            "5/5 - 0s - loss: 1.6079e-04 - accuracy: 1.0000 - 245ms/epoch - 49ms/step\n",
            "Epoch 55/200\n",
            "5/5 - 0s - loss: 1.5825e-04 - accuracy: 1.0000 - 243ms/epoch - 49ms/step\n",
            "Epoch 56/200\n",
            "5/5 - 0s - loss: 1.3708e-04 - accuracy: 1.0000 - 247ms/epoch - 49ms/step\n",
            "Epoch 57/200\n",
            "5/5 - 0s - loss: 1.5829e-04 - accuracy: 1.0000 - 243ms/epoch - 49ms/step\n",
            "Epoch 58/200\n",
            "5/5 - 0s - loss: 1.3204e-04 - accuracy: 1.0000 - 243ms/epoch - 49ms/step\n",
            "Epoch 59/200\n",
            "5/5 - 0s - loss: 1.2091e-04 - accuracy: 1.0000 - 246ms/epoch - 49ms/step\n",
            "Epoch 60/200\n",
            "5/5 - 0s - loss: 1.1163e-04 - accuracy: 1.0000 - 250ms/epoch - 50ms/step\n",
            "Epoch 61/200\n",
            "5/5 - 0s - loss: 9.9851e-05 - accuracy: 1.0000 - 246ms/epoch - 49ms/step\n",
            "Epoch 62/200\n",
            "5/5 - 0s - loss: 9.1256e-05 - accuracy: 1.0000 - 250ms/epoch - 50ms/step\n",
            "Epoch 63/200\n",
            "5/5 - 0s - loss: 8.5882e-05 - accuracy: 1.0000 - 253ms/epoch - 51ms/step\n",
            "Epoch 64/200\n",
            "5/5 - 0s - loss: 7.9604e-05 - accuracy: 1.0000 - 260ms/epoch - 52ms/step\n",
            "Epoch 65/200\n",
            "5/5 - 0s - loss: 7.3235e-05 - accuracy: 1.0000 - 267ms/epoch - 53ms/step\n",
            "Epoch 66/200\n",
            "5/5 - 0s - loss: 6.9223e-05 - accuracy: 1.0000 - 266ms/epoch - 53ms/step\n",
            "Epoch 67/200\n",
            "5/5 - 0s - loss: 6.6522e-05 - accuracy: 1.0000 - 267ms/epoch - 53ms/step\n",
            "Epoch 68/200\n",
            "5/5 - 0s - loss: 6.1370e-05 - accuracy: 1.0000 - 261ms/epoch - 52ms/step\n",
            "Epoch 69/200\n",
            "5/5 - 0s - loss: 5.9126e-05 - accuracy: 1.0000 - 256ms/epoch - 51ms/step\n",
            "Epoch 70/200\n",
            "5/5 - 0s - loss: 5.5462e-05 - accuracy: 1.0000 - 258ms/epoch - 52ms/step\n",
            "Epoch 71/200\n",
            "5/5 - 0s - loss: 5.1525e-05 - accuracy: 1.0000 - 255ms/epoch - 51ms/step\n",
            "Epoch 72/200\n",
            "5/5 - 0s - loss: 5.0379e-05 - accuracy: 1.0000 - 261ms/epoch - 52ms/step\n",
            "Epoch 73/200\n",
            "5/5 - 0s - loss: 4.6561e-05 - accuracy: 1.0000 - 261ms/epoch - 52ms/step\n",
            "Epoch 74/200\n",
            "5/5 - 0s - loss: 4.5335e-05 - accuracy: 1.0000 - 256ms/epoch - 51ms/step\n",
            "Epoch 75/200\n",
            "5/5 - 0s - loss: 4.2967e-05 - accuracy: 1.0000 - 263ms/epoch - 53ms/step\n",
            "Epoch 76/200\n",
            "5/5 - 0s - loss: 3.9361e-05 - accuracy: 1.0000 - 247ms/epoch - 49ms/step\n",
            "Epoch 77/200\n",
            "5/5 - 0s - loss: 4.3447e-05 - accuracy: 1.0000 - 248ms/epoch - 50ms/step\n",
            "Epoch 78/200\n",
            "5/5 - 0s - loss: 3.9506e-05 - accuracy: 1.0000 - 246ms/epoch - 49ms/step\n",
            "Epoch 79/200\n",
            "5/5 - 0s - loss: 3.5607e-05 - accuracy: 1.0000 - 244ms/epoch - 49ms/step\n",
            "Epoch 80/200\n",
            "5/5 - 0s - loss: 3.4445e-05 - accuracy: 1.0000 - 242ms/epoch - 48ms/step\n",
            "Epoch 81/200\n",
            "5/5 - 0s - loss: 3.2960e-05 - accuracy: 1.0000 - 245ms/epoch - 49ms/step\n",
            "Epoch 82/200\n",
            "5/5 - 0s - loss: 3.2383e-05 - accuracy: 1.0000 - 246ms/epoch - 49ms/step\n",
            "Epoch 83/200\n",
            "5/5 - 0s - loss: 3.1029e-05 - accuracy: 1.0000 - 252ms/epoch - 50ms/step\n",
            "Epoch 84/200\n",
            "5/5 - 0s - loss: 2.9834e-05 - accuracy: 1.0000 - 247ms/epoch - 49ms/step\n",
            "Epoch 85/200\n",
            "5/5 - 0s - loss: 2.8463e-05 - accuracy: 1.0000 - 245ms/epoch - 49ms/step\n",
            "Epoch 86/200\n",
            "5/5 - 0s - loss: 2.8114e-05 - accuracy: 1.0000 - 252ms/epoch - 50ms/step\n",
            "Epoch 87/200\n",
            "5/5 - 0s - loss: 2.6943e-05 - accuracy: 1.0000 - 245ms/epoch - 49ms/step\n",
            "Epoch 88/200\n",
            "5/5 - 0s - loss: 2.6171e-05 - accuracy: 1.0000 - 240ms/epoch - 48ms/step\n",
            "Epoch 89/200\n",
            "5/5 - 0s - loss: 2.4959e-05 - accuracy: 1.0000 - 244ms/epoch - 49ms/step\n",
            "Epoch 90/200\n",
            "5/5 - 0s - loss: 2.4527e-05 - accuracy: 1.0000 - 244ms/epoch - 49ms/step\n",
            "Epoch 91/200\n",
            "5/5 - 0s - loss: 2.3386e-05 - accuracy: 1.0000 - 248ms/epoch - 50ms/step\n",
            "Epoch 92/200\n",
            "5/5 - 0s - loss: 2.2561e-05 - accuracy: 1.0000 - 255ms/epoch - 51ms/step\n",
            "Epoch 93/200\n",
            "5/5 - 0s - loss: 2.1901e-05 - accuracy: 1.0000 - 244ms/epoch - 49ms/step\n",
            "Epoch 94/200\n",
            "5/5 - 0s - loss: 2.1379e-05 - accuracy: 1.0000 - 249ms/epoch - 50ms/step\n",
            "Epoch 95/200\n",
            "5/5 - 0s - loss: 2.0673e-05 - accuracy: 1.0000 - 248ms/epoch - 50ms/step\n",
            "Epoch 96/200\n",
            "5/5 - 0s - loss: 2.0054e-05 - accuracy: 1.0000 - 247ms/epoch - 49ms/step\n",
            "Epoch 97/200\n",
            "5/5 - 0s - loss: 1.9339e-05 - accuracy: 1.0000 - 243ms/epoch - 49ms/step\n",
            "Epoch 98/200\n",
            "5/5 - 0s - loss: 1.8848e-05 - accuracy: 1.0000 - 242ms/epoch - 48ms/step\n",
            "Epoch 99/200\n",
            "5/5 - 0s - loss: 1.8475e-05 - accuracy: 1.0000 - 247ms/epoch - 49ms/step\n",
            "Epoch 100/200\n",
            "5/5 - 0s - loss: 1.7919e-05 - accuracy: 1.0000 - 243ms/epoch - 49ms/step\n",
            "Epoch 101/200\n",
            "5/5 - 0s - loss: 1.7458e-05 - accuracy: 1.0000 - 243ms/epoch - 49ms/step\n",
            "Epoch 102/200\n",
            "5/5 - 0s - loss: 1.7338e-05 - accuracy: 1.0000 - 243ms/epoch - 49ms/step\n",
            "Epoch 103/200\n",
            "5/5 - 0s - loss: 1.6761e-05 - accuracy: 1.0000 - 245ms/epoch - 49ms/step\n",
            "Epoch 104/200\n",
            "5/5 - 0s - loss: 1.5720e-05 - accuracy: 1.0000 - 243ms/epoch - 49ms/step\n",
            "Epoch 105/200\n",
            "5/5 - 0s - loss: 1.6061e-05 - accuracy: 1.0000 - 244ms/epoch - 49ms/step\n",
            "Epoch 106/200\n",
            "5/5 - 0s - loss: 1.6020e-05 - accuracy: 1.0000 - 246ms/epoch - 49ms/step\n",
            "Epoch 107/200\n",
            "5/5 - 0s - loss: 1.4495e-05 - accuracy: 1.0000 - 248ms/epoch - 50ms/step\n",
            "Epoch 108/200\n",
            "5/5 - 0s - loss: 1.4483e-05 - accuracy: 1.0000 - 242ms/epoch - 48ms/step\n",
            "Epoch 109/200\n",
            "5/5 - 0s - loss: 1.4823e-05 - accuracy: 1.0000 - 245ms/epoch - 49ms/step\n",
            "Epoch 110/200\n",
            "5/5 - 0s - loss: 1.4249e-05 - accuracy: 1.0000 - 246ms/epoch - 49ms/step\n",
            "Epoch 111/200\n",
            "5/5 - 0s - loss: 1.3247e-05 - accuracy: 1.0000 - 245ms/epoch - 49ms/step\n",
            "Epoch 112/200\n",
            "5/5 - 0s - loss: 1.3267e-05 - accuracy: 1.0000 - 242ms/epoch - 48ms/step\n",
            "Epoch 113/200\n",
            "5/5 - 0s - loss: 1.3089e-05 - accuracy: 1.0000 - 246ms/epoch - 49ms/step\n",
            "Epoch 114/200\n",
            "5/5 - 0s - loss: 1.2727e-05 - accuracy: 1.0000 - 245ms/epoch - 49ms/step\n",
            "Epoch 115/200\n",
            "5/5 - 0s - loss: 1.2375e-05 - accuracy: 1.0000 - 247ms/epoch - 49ms/step\n",
            "Epoch 116/200\n",
            "5/5 - 0s - loss: 1.1900e-05 - accuracy: 1.0000 - 245ms/epoch - 49ms/step\n",
            "Epoch 117/200\n",
            "5/5 - 0s - loss: 1.1612e-05 - accuracy: 1.0000 - 246ms/epoch - 49ms/step\n",
            "Epoch 118/200\n",
            "5/5 - 0s - loss: 1.1615e-05 - accuracy: 1.0000 - 246ms/epoch - 49ms/step\n",
            "Epoch 119/200\n",
            "5/5 - 0s - loss: 1.1241e-05 - accuracy: 1.0000 - 247ms/epoch - 49ms/step\n",
            "Epoch 120/200\n",
            "5/5 - 0s - loss: 1.0859e-05 - accuracy: 1.0000 - 250ms/epoch - 50ms/step\n",
            "Epoch 121/200\n",
            "5/5 - 0s - loss: 1.0852e-05 - accuracy: 1.0000 - 243ms/epoch - 49ms/step\n",
            "Epoch 122/200\n",
            "5/5 - 0s - loss: 1.0661e-05 - accuracy: 1.0000 - 244ms/epoch - 49ms/step\n",
            "Epoch 123/200\n",
            "5/5 - 0s - loss: 1.0247e-05 - accuracy: 1.0000 - 242ms/epoch - 48ms/step\n",
            "Epoch 124/200\n",
            "5/5 - 0s - loss: 1.0077e-05 - accuracy: 1.0000 - 244ms/epoch - 49ms/step\n",
            "Epoch 125/200\n",
            "5/5 - 0s - loss: 9.8268e-06 - accuracy: 1.0000 - 244ms/epoch - 49ms/step\n",
            "Epoch 126/200\n",
            "5/5 - 0s - loss: 9.6505e-06 - accuracy: 1.0000 - 248ms/epoch - 50ms/step\n",
            "Epoch 127/200\n",
            "5/5 - 0s - loss: 9.5244e-06 - accuracy: 1.0000 - 243ms/epoch - 49ms/step\n",
            "Epoch 128/200\n",
            "5/5 - 0s - loss: 9.3309e-06 - accuracy: 1.0000 - 242ms/epoch - 48ms/step\n",
            "Epoch 129/200\n",
            "5/5 - 0s - loss: 9.0830e-06 - accuracy: 1.0000 - 246ms/epoch - 49ms/step\n",
            "Epoch 130/200\n",
            "5/5 - 0s - loss: 8.9776e-06 - accuracy: 1.0000 - 243ms/epoch - 49ms/step\n",
            "Epoch 131/200\n",
            "5/5 - 0s - loss: 8.8273e-06 - accuracy: 1.0000 - 247ms/epoch - 49ms/step\n",
            "Epoch 132/200\n",
            "5/5 - 0s - loss: 8.6770e-06 - accuracy: 1.0000 - 248ms/epoch - 50ms/step\n",
            "Epoch 133/200\n",
            "5/5 - 0s - loss: 8.5768e-06 - accuracy: 1.0000 - 247ms/epoch - 49ms/step\n",
            "Epoch 134/200\n",
            "5/5 - 0s - loss: 8.3678e-06 - accuracy: 1.0000 - 243ms/epoch - 49ms/step\n",
            "Epoch 135/200\n",
            "5/5 - 0s - loss: 8.1294e-06 - accuracy: 1.0000 - 251ms/epoch - 50ms/step\n",
            "Epoch 136/200\n",
            "5/5 - 0s - loss: 7.9843e-06 - accuracy: 1.0000 - 244ms/epoch - 49ms/step\n",
            "Epoch 137/200\n",
            "5/5 - 0s - loss: 7.8867e-06 - accuracy: 1.0000 - 246ms/epoch - 49ms/step\n",
            "Epoch 138/200\n",
            "5/5 - 0s - loss: 7.7407e-06 - accuracy: 1.0000 - 245ms/epoch - 49ms/step\n",
            "Epoch 139/200\n",
            "5/5 - 0s - loss: 7.6111e-06 - accuracy: 1.0000 - 249ms/epoch - 50ms/step\n",
            "Epoch 140/200\n",
            "5/5 - 0s - loss: 7.3969e-06 - accuracy: 1.0000 - 245ms/epoch - 49ms/step\n",
            "Epoch 141/200\n",
            "5/5 - 0s - loss: 7.4168e-06 - accuracy: 1.0000 - 241ms/epoch - 48ms/step\n",
            "Epoch 142/200\n",
            "5/5 - 0s - loss: 7.2630e-06 - accuracy: 1.0000 - 249ms/epoch - 50ms/step\n",
            "Epoch 143/200\n",
            "5/5 - 0s - loss: 7.0704e-06 - accuracy: 1.0000 - 247ms/epoch - 49ms/step\n",
            "Epoch 144/200\n",
            "5/5 - 0s - loss: 6.9270e-06 - accuracy: 1.0000 - 242ms/epoch - 48ms/step\n",
            "Epoch 145/200\n",
            "5/5 - 0s - loss: 6.8112e-06 - accuracy: 1.0000 - 242ms/epoch - 48ms/step\n",
            "Epoch 146/200\n",
            "5/5 - 0s - loss: 6.7516e-06 - accuracy: 1.0000 - 243ms/epoch - 49ms/step\n",
            "Epoch 147/200\n",
            "5/5 - 0s - loss: 6.5642e-06 - accuracy: 1.0000 - 246ms/epoch - 49ms/step\n",
            "Epoch 148/200\n",
            "5/5 - 0s - loss: 6.4398e-06 - accuracy: 1.0000 - 249ms/epoch - 50ms/step\n",
            "Epoch 149/200\n",
            "5/5 - 0s - loss: 6.3465e-06 - accuracy: 1.0000 - 248ms/epoch - 50ms/step\n",
            "Epoch 150/200\n",
            "5/5 - 0s - loss: 6.3154e-06 - accuracy: 1.0000 - 243ms/epoch - 49ms/step\n",
            "Epoch 151/200\n",
            "5/5 - 0s - loss: 6.1444e-06 - accuracy: 1.0000 - 244ms/epoch - 49ms/step\n",
            "Epoch 152/200\n",
            "5/5 - 0s - loss: 6.0666e-06 - accuracy: 1.0000 - 255ms/epoch - 51ms/step\n",
            "Epoch 153/200\n",
            "5/5 - 0s - loss: 5.9440e-06 - accuracy: 1.0000 - 243ms/epoch - 49ms/step\n",
            "Epoch 154/200\n",
            "5/5 - 0s - loss: 5.8844e-06 - accuracy: 1.0000 - 243ms/epoch - 49ms/step\n",
            "Epoch 155/200\n",
            "5/5 - 0s - loss: 5.7997e-06 - accuracy: 1.0000 - 243ms/epoch - 49ms/step\n",
            "Epoch 156/200\n",
            "5/5 - 0s - loss: 5.6434e-06 - accuracy: 1.0000 - 243ms/epoch - 49ms/step\n",
            "Epoch 157/200\n",
            "5/5 - 0s - loss: 5.5630e-06 - accuracy: 1.0000 - 249ms/epoch - 50ms/step\n",
            "Epoch 158/200\n",
            "5/5 - 0s - loss: 5.4706e-06 - accuracy: 1.0000 - 244ms/epoch - 49ms/step\n",
            "Epoch 159/200\n",
            "5/5 - 0s - loss: 5.4050e-06 - accuracy: 1.0000 - 246ms/epoch - 49ms/step\n",
            "Epoch 160/200\n",
            "5/5 - 0s - loss: 5.3549e-06 - accuracy: 1.0000 - 251ms/epoch - 50ms/step\n",
            "Epoch 161/200\n",
            "5/5 - 0s - loss: 5.2676e-06 - accuracy: 1.0000 - 249ms/epoch - 50ms/step\n",
            "Epoch 162/200\n",
            "5/5 - 0s - loss: 5.1657e-06 - accuracy: 1.0000 - 247ms/epoch - 49ms/step\n",
            "Epoch 163/200\n",
            "5/5 - 0s - loss: 5.0776e-06 - accuracy: 1.0000 - 244ms/epoch - 49ms/step\n",
            "Epoch 164/200\n",
            "5/5 - 0s - loss: 5.0136e-06 - accuracy: 1.0000 - 244ms/epoch - 49ms/step\n",
            "Epoch 165/200\n",
            "5/5 - 0s - loss: 4.9463e-06 - accuracy: 1.0000 - 242ms/epoch - 48ms/step\n",
            "Epoch 166/200\n",
            "5/5 - 0s - loss: 4.8564e-06 - accuracy: 1.0000 - 250ms/epoch - 50ms/step\n",
            "Epoch 167/200\n",
            "5/5 - 0s - loss: 4.8832e-06 - accuracy: 1.0000 - 249ms/epoch - 50ms/step\n",
            "Epoch 168/200\n",
            "5/5 - 0s - loss: 4.7536e-06 - accuracy: 1.0000 - 249ms/epoch - 50ms/step\n",
            "Epoch 169/200\n",
            "5/5 - 0s - loss: 4.6655e-06 - accuracy: 1.0000 - 249ms/epoch - 50ms/step\n",
            "Epoch 170/200\n",
            "5/5 - 0s - loss: 4.7493e-06 - accuracy: 1.0000 - 244ms/epoch - 49ms/step\n",
            "Epoch 171/200\n",
            "5/5 - 0s - loss: 4.7994e-06 - accuracy: 1.0000 - 246ms/epoch - 49ms/step\n",
            "Epoch 172/200\n",
            "5/5 - 0s - loss: 4.6793e-06 - accuracy: 1.0000 - 245ms/epoch - 49ms/step\n",
            "Epoch 173/200\n",
            "5/5 - 0s - loss: 4.4504e-06 - accuracy: 1.0000 - 242ms/epoch - 48ms/step\n",
            "Epoch 174/200\n",
            "5/5 - 0s - loss: 4.3312e-06 - accuracy: 1.0000 - 239ms/epoch - 48ms/step\n",
            "Epoch 175/200\n",
            "5/5 - 0s - loss: 4.2759e-06 - accuracy: 1.0000 - 247ms/epoch - 49ms/step\n",
            "Epoch 176/200\n",
            "5/5 - 0s - loss: 4.1732e-06 - accuracy: 1.0000 - 245ms/epoch - 49ms/step\n",
            "Epoch 177/200\n",
            "5/5 - 0s - loss: 4.1991e-06 - accuracy: 1.0000 - 245ms/epoch - 49ms/step\n",
            "Epoch 178/200\n",
            "5/5 - 0s - loss: 4.1801e-06 - accuracy: 1.0000 - 244ms/epoch - 49ms/step\n",
            "Epoch 179/200\n",
            "5/5 - 0s - loss: 4.0686e-06 - accuracy: 1.0000 - 248ms/epoch - 50ms/step\n",
            "Epoch 180/200\n",
            "5/5 - 0s - loss: 4.0108e-06 - accuracy: 1.0000 - 244ms/epoch - 49ms/step\n",
            "Epoch 181/200\n",
            "5/5 - 0s - loss: 3.9555e-06 - accuracy: 1.0000 - 248ms/epoch - 50ms/step\n",
            "Epoch 182/200\n",
            "5/5 - 0s - loss: 3.8751e-06 - accuracy: 1.0000 - 243ms/epoch - 49ms/step\n",
            "Epoch 183/200\n",
            "5/5 - 0s - loss: 3.8199e-06 - accuracy: 1.0000 - 244ms/epoch - 49ms/step\n",
            "Epoch 184/200\n",
            "5/5 - 0s - loss: 3.7818e-06 - accuracy: 1.0000 - 242ms/epoch - 48ms/step\n",
            "Epoch 185/200\n",
            "5/5 - 0s - loss: 3.7283e-06 - accuracy: 1.0000 - 244ms/epoch - 49ms/step\n",
            "Epoch 186/200\n",
            "5/5 - 0s - loss: 3.6808e-06 - accuracy: 1.0000 - 241ms/epoch - 48ms/step\n",
            "Epoch 187/200\n",
            "5/5 - 0s - loss: 3.6549e-06 - accuracy: 1.0000 - 241ms/epoch - 48ms/step\n",
            "Epoch 188/200\n",
            "5/5 - 0s - loss: 3.5918e-06 - accuracy: 1.0000 - 243ms/epoch - 49ms/step\n",
            "Epoch 189/200\n",
            "5/5 - 0s - loss: 3.5357e-06 - accuracy: 1.0000 - 245ms/epoch - 49ms/step\n",
            "Epoch 190/200\n",
            "5/5 - 0s - loss: 3.4951e-06 - accuracy: 1.0000 - 247ms/epoch - 49ms/step\n",
            "Epoch 191/200\n",
            "5/5 - 0s - loss: 3.4942e-06 - accuracy: 1.0000 - 244ms/epoch - 49ms/step\n",
            "Epoch 192/200\n",
            "5/5 - 0s - loss: 3.4216e-06 - accuracy: 1.0000 - 243ms/epoch - 49ms/step\n",
            "Epoch 193/200\n",
            "5/5 - 0s - loss: 3.3776e-06 - accuracy: 1.0000 - 243ms/epoch - 49ms/step\n",
            "Epoch 194/200\n",
            "5/5 - 0s - loss: 3.3257e-06 - accuracy: 1.0000 - 246ms/epoch - 49ms/step\n",
            "Epoch 195/200\n",
            "5/5 - 0s - loss: 3.2886e-06 - accuracy: 1.0000 - 247ms/epoch - 49ms/step\n",
            "Epoch 196/200\n",
            "5/5 - 0s - loss: 3.2584e-06 - accuracy: 1.0000 - 248ms/epoch - 50ms/step\n",
            "Epoch 197/200\n",
            "5/5 - 0s - loss: 3.2368e-06 - accuracy: 1.0000 - 245ms/epoch - 49ms/step\n",
            "Epoch 198/200\n",
            "5/5 - 0s - loss: 3.1625e-06 - accuracy: 1.0000 - 247ms/epoch - 49ms/step\n",
            "Epoch 199/200\n",
            "5/5 - 0s - loss: 3.1331e-06 - accuracy: 1.0000 - 244ms/epoch - 49ms/step\n",
            "Epoch 200/200\n",
            "5/5 - 0s - loss: 3.1081e-06 - accuracy: 1.0000 - 241ms/epoch - 48ms/step\n"
          ]
        }
      ],
      "source": [
        "history = model.fit(x_train, y_train, batch_size=32, epochs=200, verbose=2)"
      ]
    },
    {
      "cell_type": "code",
      "execution_count": 63,
      "metadata": {
        "colab": {
          "base_uri": "https://localhost:8080/"
        },
        "id": "qCZ5SaAz9hUi",
        "outputId": "c34bb4b6-c03d-4959-887b-37e6b0d82338"
      },
      "outputs": [
        {
          "output_type": "stream",
          "name": "stdout",
          "text": [
            "5/5 - 0s - loss: 3.0761e-06 - accuracy: 1.0000 - 277ms/epoch - 55ms/step\n",
            "Train Loss 3.0760988920519594e-06\n",
            "Train Accuracy 1.0\n"
          ]
        }
      ],
      "source": [
        "# Danh gia ve do chinh xac cua mo hinh \n",
        "Score=model.evaluate(x_train,y_train,verbose=2)\n",
        "print('Train Loss', Score[0])\n",
        "print('Train Accuracy', Score[1])"
      ]
    },
    {
      "cell_type": "code",
      "execution_count": 64,
      "metadata": {
        "colab": {
          "base_uri": "https://localhost:8080/",
          "height": 312
        },
        "id": "QCTfLGgj9jUp",
        "outputId": "fe5d89a0-e84d-4cb2-b50a-42b374c32f69"
      },
      "outputs": [
        {
          "output_type": "execute_result",
          "data": {
            "text/plain": [
              "<function matplotlib.pyplot.show(*args, **kw)>"
            ]
          },
          "metadata": {},
          "execution_count": 64
        },
        {
          "output_type": "display_data",
          "data": {
            "text/plain": [
              "<Figure size 432x288 with 1 Axes>"
            ],
            "image/png": "[encoded data removed]"
          },
          "metadata": {
            "needs_background": "light"
          }
        }
      ],
      "source": [
        "# Ve do thi giua sai so (Loss) va do chinh xac (Accuracy)\n",
        "plt.plot(history.history['accuracy'])\n",
        "plt.plot(history.history['loss'])\n",
        "plt.title('Model Accuracy')\n",
        "plt.ylabel('Accuracy')\n",
        "plt.xlabel('Epochs')\n",
        "plt.legend(['Train','Validation'])\n",
        "plt.show"
      ]
    },
    {
      "cell_type": "code",
      "execution_count": 65,
      "metadata": {
        "id": "eykVTZY29mH7"
      },
      "outputs": [],
      "source": [
        "# Luu lai\n",
        "model.save(\"Nhan_dien_khuonmat.h5\")"
      ]
    },
    {
      "cell_type": "code",
      "execution_count": 66,
      "metadata": {
        "id": "NP5VQw3l9n8E"
      },
      "outputs": [],
      "source": [
        "# Tai mo hinh\n",
        "model_ANN=load_model('Nhan_dien_khuonmat.h5')"
      ]
    },
    {
      "cell_type": "code",
      "execution_count": 67,
      "metadata": {
        "id": "ZsgxPrKu9qCD"
      },
      "outputs": [],
      "source": [
        "class_names = [\"BuiLeAnhVu\",\"NguyenHuuDuong\",\"VoAnhTuan\"]"
      ]
    },
    {
      "cell_type": "code",
      "execution_count": 69,
      "metadata": {
        "colab": {
          "base_uri": "https://localhost:8080/",
          "height": 338
        },
        "id": "fk5aARQc9tp7",
        "outputId": "b501cb9d-bb87-458d-e007-3d0835adab38"
      },
      "outputs": [
        {
          "output_type": "stream",
          "name": "stdout",
          "text": [
            "1/1 [==============================] - 0s 19ms/step\n",
            "[[4.8857068e-10 1.2689828e-24 1.0000000e+00]]\n",
            "Kết quả:  VoAnhTuan\n",
            "Độ chính xác:  1.0\n"
          ]
        },
        {
          "output_type": "display_data",
          "data": {
            "text/plain": [
              "<Figure size 432x288 with 1 Axes>"
            ],
            "image/png": "[encoded data removed]"
          },
          "metadata": {
            "needs_background": "light"
          }
        }
      ],
      "source": [
        "from tensorflow.keras.utils import load_img\n",
        "from keras.utils.image_utils import img_to_array\n",
        "import numpy as np\n",
        "\n",
        "url = \"/content/drive/MyDrive/Khuon mat/Test/VoAnhTuan/z3881022578029_1f040f225004b21d16a56a74f35e4677.jpg\"\n",
        "img = load_img(url, target_size=(224,224,3))\n",
        "plt.imshow(img)\n",
        "img = img_to_array(img)\n",
        "img = img.reshape(1, 224,224,3)\n",
        "img = img.astype(\"float32\")\n",
        "img = img/255\n",
        "img = img.reshape(-1, 224,224,3)\n",
        "\n",
        "prediction = model.predict(img)\n",
        "np.argmax(prediction, axis=1)\n",
        "index = -1\n",
        "max_value = -1\n",
        "\n",
        "for i in range(0, len(prediction[0])):\n",
        "  if max_value < prediction[0][i]:\n",
        "    max_value = prediction[0][i]\n",
        "    index = i\n",
        "print(prediction)\n",
        "print(\"Kết quả: \", class_names[index])\n",
        "print(\"Độ chính xác: \", max_value)"
      ]
    }
  ],
  "metadata": {
    "accelerator": "GPU",
    "colab": {
      "collapsed_sections": [],
      "provenance": [],
      "authorship_tag": "ABX9TyOeetqComX38yC0g1rpLplF",
      "include_colab_link": true
    },
    "gpuClass": "standard",
    "kernelspec": {
      "display_name": "Python 3",
      "name": "python3"
    },
    "language_info": {
      "name": "python"
    }
  },
  "nbformat": 4,
  "nbformat_minor": 0
}