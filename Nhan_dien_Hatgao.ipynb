{
  "cells": [
    {
      "cell_type": "markdown",
      "metadata": {
        "id": "view-in-github",
        "colab_type": "text"
      },
      "source": [
        "<a href=\"https://colab.research.google.com/github/AnhTuan1807/BTVN/blob/main/Nhan_dien_tien.ipynb\" target=\"_parent\"><img src=\"https://colab.research.google.com/assets/colab-badge.svg\" alt=\"Open In Colab\"/></a>"
      ]
    },
    {
      "cell_type": "code",
      "execution_count": 29,
      "metadata": {
        "id": "s3Dtetg34QQ9"
      },
      "outputs": [],
      "source": [
        "#Khai bao cac thu vien can su dung\n",
        "from sklearn.model_selection import train_test_split\n",
        "import matplotlib.pyplot as plt\n",
        "import numpy as np\n",
        "import tensorflow as tf\n",
        "from keras.utils import np_utils\n",
        "from keras.models import Sequential\n",
        "from keras.layers import Dense, Activation, Dropout, Conv2D, MaxPooling2D, Flatten\n",
        "from tensorflow.keras.optimizers import SGD, RMSprop\n",
        "from keras.callbacks import EarlyStopping, ModelCheckpoint\n",
        "from sklearn.utils import validation \n",
        "from sklearn import preprocessing\n",
        "from tensorflow.keras.utils import to_categorical\n",
        "from tensorflow.keras.models import load_model\n",
        "from tensorflow.keras.utils import load_img, img_to_array\n",
        "from tensorflow.keras.preprocessing.image import ImageDataGenerator"
      ]
    },
    {
      "cell_type": "code",
      "execution_count": 30,
      "metadata": {
        "colab": {
          "base_uri": "https://localhost:8080/"
        },
        "id": "YujXnwVp4fNw",
        "outputId": "1dec33b5-2407-4676-9b15-59db1923c292"
      },
      "outputs": [
        {
          "output_type": "stream",
          "name": "stdout",
          "text": [
            "Drive already mounted at /content/drive; to attempt to forcibly remount, call drive.mount(\"/content/drive\", force_remount=True).\n"
          ]
        }
      ],
      "source": [
        "#Ket noi voi google drive\n",
        "from google.colab import drive\n",
        "drive.mount('/content/drive')"
      ]
    },
    {
      "cell_type": "code",
      "execution_count": 31,
      "metadata": {
        "id": "zpRkvVo-4hGB"
      },
      "outputs": [],
      "source": [
        "# Tao ra class ImageDataGenerator de chinh sua anh \n",
        "train_datagen = ImageDataGenerator(rescale=1./255, shear_range=0.2, zoom_range=0.2, horizontal_flip=True)\n",
        "test_datagen = ImageDataGenerator(rescale=1./255)"
      ]
    },
    {
      "cell_type": "code",
      "execution_count": 32,
      "metadata": {
        "colab": {
          "base_uri": "https://localhost:8080/"
        },
        "id": "Tb8qpP5_4jR7",
        "outputId": "d33ce089-c96e-4790-9fec-1f8189b6601e"
      },
      "outputs": [
        {
          "output_type": "stream",
          "name": "stdout",
          "text": [
            "Found 1950 images belonging to 10 classes.\n"
          ]
        }
      ],
      "source": [
        "training_set = train_datagen.flow_from_directory('/content/drive/MyDrive/Hat gao/Train', target_size=(224,224), batch_size=32, class_mode='categorical')"
      ]
    },
    {
      "cell_type": "code",
      "execution_count": 33,
      "metadata": {
        "colab": {
          "base_uri": "https://localhost:8080/"
        },
        "id": "zv4Ucr4A4lQN",
        "outputId": "08168ec0-eb27-489a-e710-9c23695494ac"
      },
      "outputs": [
        {
          "output_type": "stream",
          "name": "stdout",
          "text": [
            "Found 75 images belonging to 10 classes.\n"
          ]
        }
      ],
      "source": [
        "# Tao bo du lieu test\n",
        "test_set = train_datagen.flow_from_directory('/content/drive/MyDrive/Hat gao/Test', target_size=(224,224), batch_size=32, class_mode='categorical')"
      ]
    },
    {
      "cell_type": "code",
      "execution_count": 34,
      "metadata": {
        "colab": {
          "base_uri": "https://localhost:8080/"
        },
        "id": "DgmtLf0-47wW",
        "outputId": "feec4a55-ca10-489e-f2f8-47fe4a847595"
      },
      "outputs": [
        {
          "output_type": "execute_result",
          "data": {
            "text/plain": [
              "{'Arborio': 0,\n",
              " 'Basmati': 1,\n",
              " 'Ipsala': 2,\n",
              " 'Jasmine': 3,\n",
              " 'Karacadag': 4,\n",
              " 'gao bac huong': 5,\n",
              " 'gao luc': 6,\n",
              " 'gao nang thom': 7,\n",
              " 'gao nep': 8,\n",
              " 'gao thom thai': 9}"
            ]
          },
          "metadata": {},
          "execution_count": 34
        }
      ],
      "source": [
        "# Cac nhan co trong bo du lieu training\n",
        "training_set.class_indices"
      ]
    },
    {
      "cell_type": "code",
      "execution_count": 35,
      "metadata": {
        "colab": {
          "base_uri": "https://localhost:8080/"
        },
        "id": "EstumVPa49ld",
        "outputId": "11328590-3006-4c78-f41c-56c6ca284cde"
      },
      "outputs": [
        {
          "output_type": "execute_result",
          "data": {
            "text/plain": [
              "{'Arborio': 0,\n",
              " 'Basmati': 1,\n",
              " 'Ipsala': 2,\n",
              " 'Jasmine': 3,\n",
              " 'Karacadag': 4,\n",
              " 'gao bac huong': 5,\n",
              " 'gao luc': 6,\n",
              " 'gao nang thom': 7,\n",
              " 'gao nep': 8,\n",
              " 'gao thom thai': 9}"
            ]
          },
          "metadata": {},
          "execution_count": 35
        }
      ],
      "source": [
        "# Cac nhan co trong bo du lieu test\n",
        "test_set.class_indices"
      ]
    },
    {
      "cell_type": "code",
      "execution_count": 36,
      "metadata": {
        "colab": {
          "base_uri": "https://localhost:8080/"
        },
        "id": "JpewgjEx4_fe",
        "outputId": "c7fedfe4-651f-422a-992d-ec22f49220fe"
      },
      "outputs": [
        {
          "output_type": "stream",
          "name": "stdout",
          "text": [
            "(1950, 224, 224, 3)\n",
            "(1950, 10)\n"
          ]
        }
      ],
      "source": [
        "x_train = np.concatenate([training_set.next()[0] for i in range(training_set.__len__())])\n",
        "y_train = np.concatenate([training_set.next()[1] for i in range(training_set.__len__())])\n",
        "print(x_train.shape)\n",
        "print(y_train.shape)"
      ]
    },
    {
      "cell_type": "code",
      "execution_count": 37,
      "metadata": {
        "colab": {
          "base_uri": "https://localhost:8080/"
        },
        "id": "Na26t1OK5BG8",
        "outputId": "42ba1436-2381-48c4-b974-e65a770071f2"
      },
      "outputs": [
        {
          "output_type": "stream",
          "name": "stdout",
          "text": [
            "(75, 224, 224, 3)\n",
            "(75, 10)\n"
          ]
        }
      ],
      "source": [
        "x_test = np.concatenate([test_set.next()[0] for i in range(test_set.__len__())])\n",
        "y_test = np.concatenate([test_set.next()[1] for i in range(test_set.__len__())])\n",
        "print(x_test.shape)\n",
        "print(y_test.shape)"
      ]
    },
    {
      "cell_type": "code",
      "execution_count": 39,
      "metadata": {
        "colab": {
          "base_uri": "https://localhost:8080/"
        },
        "id": "0IFscXsh5C8H",
        "outputId": "f0189f8f-e87d-4f71-a7ea-eca4ff36b531"
      },
      "outputs": [
        {
          "output_type": "stream",
          "name": "stdout",
          "text": [
            "Model: \"sequential_2\"\n",
            "_________________________________________________________________\n",
            " Layer (type)                Output Shape              Param #   \n",
            "=================================================================\n",
            " conv2d_6 (Conv2D)           (None, 224, 224, 32)      896       \n",
            "                                                                 \n",
            " max_pooling2d_6 (MaxPooling  (None, 112, 112, 32)     0         \n",
            " 2D)                                                             \n",
            "                                                                 \n",
            " conv2d_7 (Conv2D)           (None, 112, 112, 64)      18496     \n",
            "                                                                 \n",
            " max_pooling2d_7 (MaxPooling  (None, 56, 56, 64)       0         \n",
            " 2D)                                                             \n",
            "                                                                 \n",
            " conv2d_8 (Conv2D)           (None, 56, 56, 128)       73856     \n",
            "                                                                 \n",
            " max_pooling2d_8 (MaxPooling  (None, 28, 28, 128)      0         \n",
            " 2D)                                                             \n",
            "                                                                 \n",
            " flatten_2 (Flatten)         (None, 100352)            0         \n",
            "                                                                 \n",
            " dense_4 (Dense)             (None, 128)               12845184  \n",
            "                                                                 \n",
            " dense_5 (Dense)             (None, 10)                1290      \n",
            "                                                                 \n",
            "=================================================================\n",
            "Total params: 12,939,722\n",
            "Trainable params: 12,939,722\n",
            "Non-trainable params: 0\n",
            "_________________________________________________________________\n"
          ]
        }
      ],
      "source": [
        "from keras.models import Sequential, Model\n",
        "from keras.layers import Dense, Dropout, Flatten, Conv2D, MaxPooling2D\n",
        "\n",
        "model = Sequential()\n",
        "model.add(Conv2D(32, kernel_size=(3,3), activation=\"relu\", input_shape=(224,224,3), padding=\"same\"))\n",
        "model.add(MaxPooling2D((2,2), padding=\"same\"))\n",
        "model.add(Conv2D(64, kernel_size=(3,3), activation=\"relu\", padding=\"same\"))\n",
        "model.add(MaxPooling2D((2,2), padding=\"same\"))\n",
        "model.add(Conv2D(128, kernel_size=(3,3), activation=\"relu\", padding=\"same\"))\n",
        "model.add(MaxPooling2D((2,2), padding=\"same\"))\n",
        "model.add(Flatten())\n",
        "model.add(Dense(128, activation=\"relu\"))\n",
        "model.add(Dense(10, activation=\"softmax\"))\n",
        "\n",
        "model.summary()"
      ]
    },
    {
      "cell_type": "code",
      "execution_count": 40,
      "metadata": {
        "id": "v1ADKeb15hNw"
      },
      "outputs": [],
      "source": [
        "model.compile(loss=\"categorical_crossentropy\", metrics=[\"accuracy\"], optimizer=\"adam\")"
      ]
    },
    {
      "cell_type": "code",
      "execution_count": 41,
      "metadata": {
        "colab": {
          "base_uri": "https://localhost:8080/"
        },
        "id": "oSalynMQ5jJC",
        "outputId": "5c5ec66b-5286-4b07-d98c-0d01ad45cfd4"
      },
      "outputs": [
        {
          "output_type": "stream",
          "name": "stdout",
          "text": [
            "Epoch 1/100\n",
            "61/61 - 4s - loss: 1.6972 - accuracy: 0.1944 - 4s/epoch - 62ms/step\n",
            "Epoch 2/100\n",
            "61/61 - 3s - loss: 1.6132 - accuracy: 0.2272 - 3s/epoch - 53ms/step\n",
            "Epoch 3/100\n",
            "61/61 - 3s - loss: 1.5760 - accuracy: 0.2774 - 3s/epoch - 54ms/step\n",
            "Epoch 4/100\n",
            "61/61 - 3s - loss: 1.4633 - accuracy: 0.3651 - 3s/epoch - 53ms/step\n",
            "Epoch 5/100\n",
            "61/61 - 3s - loss: 1.3245 - accuracy: 0.4528 - 3s/epoch - 54ms/step\n",
            "Epoch 6/100\n",
            "61/61 - 3s - loss: 1.0751 - accuracy: 0.5713 - 3s/epoch - 53ms/step\n",
            "Epoch 7/100\n",
            "61/61 - 3s - loss: 0.8102 - accuracy: 0.6918 - 3s/epoch - 54ms/step\n",
            "Epoch 8/100\n",
            "61/61 - 3s - loss: 0.5276 - accuracy: 0.8026 - 3s/epoch - 54ms/step\n",
            "Epoch 9/100\n",
            "61/61 - 3s - loss: 0.2804 - accuracy: 0.9072 - 3s/epoch - 54ms/step\n",
            "Epoch 10/100\n",
            "61/61 - 3s - loss: 0.1357 - accuracy: 0.9585 - 3s/epoch - 54ms/step\n",
            "Epoch 11/100\n",
            "61/61 - 3s - loss: 0.0836 - accuracy: 0.9769 - 3s/epoch - 54ms/step\n",
            "Epoch 12/100\n",
            "61/61 - 3s - loss: 0.0485 - accuracy: 0.9872 - 3s/epoch - 54ms/step\n",
            "Epoch 13/100\n",
            "61/61 - 3s - loss: 0.0278 - accuracy: 0.9938 - 3s/epoch - 55ms/step\n",
            "Epoch 14/100\n",
            "61/61 - 3s - loss: 0.0188 - accuracy: 0.9923 - 3s/epoch - 55ms/step\n",
            "Epoch 15/100\n",
            "61/61 - 3s - loss: 0.0300 - accuracy: 0.9913 - 3s/epoch - 54ms/step\n",
            "Epoch 16/100\n",
            "61/61 - 3s - loss: 0.0463 - accuracy: 0.9877 - 3s/epoch - 53ms/step\n",
            "Epoch 17/100\n",
            "61/61 - 3s - loss: 0.0806 - accuracy: 0.9821 - 3s/epoch - 53ms/step\n",
            "Epoch 18/100\n",
            "61/61 - 3s - loss: 0.0390 - accuracy: 0.9913 - 3s/epoch - 53ms/step\n",
            "Epoch 19/100\n",
            "61/61 - 3s - loss: 0.0156 - accuracy: 0.9949 - 3s/epoch - 54ms/step\n",
            "Epoch 20/100\n",
            "61/61 - 3s - loss: 0.0131 - accuracy: 0.9969 - 3s/epoch - 54ms/step\n",
            "Epoch 21/100\n",
            "61/61 - 3s - loss: 0.0022 - accuracy: 0.9995 - 3s/epoch - 53ms/step\n",
            "Epoch 22/100\n",
            "61/61 - 3s - loss: 5.4137e-04 - accuracy: 1.0000 - 3s/epoch - 53ms/step\n",
            "Epoch 23/100\n",
            "61/61 - 3s - loss: 3.4440e-04 - accuracy: 1.0000 - 3s/epoch - 54ms/step\n",
            "Epoch 24/100\n",
            "61/61 - 3s - loss: 2.6692e-04 - accuracy: 1.0000 - 3s/epoch - 53ms/step\n",
            "Epoch 25/100\n",
            "61/61 - 3s - loss: 2.1835e-04 - accuracy: 1.0000 - 3s/epoch - 53ms/step\n",
            "Epoch 26/100\n",
            "61/61 - 3s - loss: 1.8362e-04 - accuracy: 1.0000 - 3s/epoch - 54ms/step\n",
            "Epoch 27/100\n",
            "61/61 - 3s - loss: 1.5817e-04 - accuracy: 1.0000 - 3s/epoch - 53ms/step\n",
            "Epoch 28/100\n",
            "61/61 - 3s - loss: 1.3757e-04 - accuracy: 1.0000 - 3s/epoch - 53ms/step\n",
            "Epoch 29/100\n",
            "61/61 - 3s - loss: 1.2153e-04 - accuracy: 1.0000 - 3s/epoch - 54ms/step\n",
            "Epoch 30/100\n",
            "61/61 - 3s - loss: 1.0825e-04 - accuracy: 1.0000 - 3s/epoch - 53ms/step\n",
            "Epoch 31/100\n",
            "61/61 - 3s - loss: 9.7409e-05 - accuracy: 1.0000 - 3s/epoch - 53ms/step\n",
            "Epoch 32/100\n",
            "61/61 - 3s - loss: 8.8036e-05 - accuracy: 1.0000 - 3s/epoch - 53ms/step\n",
            "Epoch 33/100\n",
            "61/61 - 3s - loss: 8.0039e-05 - accuracy: 1.0000 - 3s/epoch - 54ms/step\n",
            "Epoch 34/100\n",
            "61/61 - 3s - loss: 7.2956e-05 - accuracy: 1.0000 - 3s/epoch - 54ms/step\n",
            "Epoch 35/100\n",
            "61/61 - 3s - loss: 6.6827e-05 - accuracy: 1.0000 - 3s/epoch - 53ms/step\n",
            "Epoch 36/100\n",
            "61/61 - 3s - loss: 6.1495e-05 - accuracy: 1.0000 - 3s/epoch - 53ms/step\n",
            "Epoch 37/100\n",
            "61/61 - 3s - loss: 5.6746e-05 - accuracy: 1.0000 - 3s/epoch - 53ms/step\n",
            "Epoch 38/100\n",
            "61/61 - 3s - loss: 5.2487e-05 - accuracy: 1.0000 - 3s/epoch - 54ms/step\n",
            "Epoch 39/100\n",
            "61/61 - 3s - loss: 4.8727e-05 - accuracy: 1.0000 - 3s/epoch - 54ms/step\n",
            "Epoch 40/100\n",
            "61/61 - 3s - loss: 4.5415e-05 - accuracy: 1.0000 - 3s/epoch - 54ms/step\n",
            "Epoch 41/100\n",
            "61/61 - 3s - loss: 4.2328e-05 - accuracy: 1.0000 - 3s/epoch - 54ms/step\n",
            "Epoch 42/100\n",
            "61/61 - 3s - loss: 3.9507e-05 - accuracy: 1.0000 - 3s/epoch - 54ms/step\n",
            "Epoch 43/100\n",
            "61/61 - 3s - loss: 3.6975e-05 - accuracy: 1.0000 - 3s/epoch - 54ms/step\n",
            "Epoch 44/100\n",
            "61/61 - 3s - loss: 3.4628e-05 - accuracy: 1.0000 - 3s/epoch - 54ms/step\n",
            "Epoch 45/100\n",
            "61/61 - 3s - loss: 3.2488e-05 - accuracy: 1.0000 - 3s/epoch - 53ms/step\n",
            "Epoch 46/100\n",
            "61/61 - 3s - loss: 3.0565e-05 - accuracy: 1.0000 - 3s/epoch - 53ms/step\n",
            "Epoch 47/100\n",
            "61/61 - 3s - loss: 2.8811e-05 - accuracy: 1.0000 - 3s/epoch - 53ms/step\n",
            "Epoch 48/100\n",
            "61/61 - 3s - loss: 2.7120e-05 - accuracy: 1.0000 - 3s/epoch - 54ms/step\n",
            "Epoch 49/100\n",
            "61/61 - 3s - loss: 2.5608e-05 - accuracy: 1.0000 - 3s/epoch - 53ms/step\n",
            "Epoch 50/100\n",
            "61/61 - 3s - loss: 2.4205e-05 - accuracy: 1.0000 - 3s/epoch - 53ms/step\n",
            "Epoch 51/100\n",
            "61/61 - 3s - loss: 2.2912e-05 - accuracy: 1.0000 - 3s/epoch - 53ms/step\n",
            "Epoch 52/100\n",
            "61/61 - 3s - loss: 2.1688e-05 - accuracy: 1.0000 - 3s/epoch - 54ms/step\n",
            "Epoch 53/100\n",
            "61/61 - 3s - loss: 2.0546e-05 - accuracy: 1.0000 - 3s/epoch - 53ms/step\n",
            "Epoch 54/100\n",
            "61/61 - 3s - loss: 1.9533e-05 - accuracy: 1.0000 - 3s/epoch - 53ms/step\n",
            "Epoch 55/100\n",
            "61/61 - 3s - loss: 1.8529e-05 - accuracy: 1.0000 - 3s/epoch - 54ms/step\n",
            "Epoch 56/100\n",
            "61/61 - 3s - loss: 1.7580e-05 - accuracy: 1.0000 - 3s/epoch - 54ms/step\n",
            "Epoch 57/100\n",
            "61/61 - 3s - loss: 1.6717e-05 - accuracy: 1.0000 - 3s/epoch - 54ms/step\n",
            "Epoch 58/100\n",
            "61/61 - 3s - loss: 1.5885e-05 - accuracy: 1.0000 - 3s/epoch - 54ms/step\n",
            "Epoch 59/100\n",
            "61/61 - 3s - loss: 1.5135e-05 - accuracy: 1.0000 - 3s/epoch - 55ms/step\n",
            "Epoch 60/100\n",
            "61/61 - 3s - loss: 1.4414e-05 - accuracy: 1.0000 - 3s/epoch - 54ms/step\n",
            "Epoch 61/100\n",
            "61/61 - 3s - loss: 1.3738e-05 - accuracy: 1.0000 - 3s/epoch - 53ms/step\n",
            "Epoch 62/100\n",
            "61/61 - 3s - loss: 1.3089e-05 - accuracy: 1.0000 - 3s/epoch - 54ms/step\n",
            "Epoch 63/100\n",
            "61/61 - 3s - loss: 1.2486e-05 - accuracy: 1.0000 - 3s/epoch - 54ms/step\n",
            "Epoch 64/100\n",
            "61/61 - 3s - loss: 1.1920e-05 - accuracy: 1.0000 - 3s/epoch - 53ms/step\n",
            "Epoch 65/100\n",
            "61/61 - 3s - loss: 1.1401e-05 - accuracy: 1.0000 - 3s/epoch - 53ms/step\n",
            "Epoch 66/100\n",
            "61/61 - 3s - loss: 1.0874e-05 - accuracy: 1.0000 - 3s/epoch - 54ms/step\n",
            "Epoch 67/100\n",
            "61/61 - 3s - loss: 1.0409e-05 - accuracy: 1.0000 - 3s/epoch - 54ms/step\n",
            "Epoch 68/100\n",
            "61/61 - 3s - loss: 9.9544e-06 - accuracy: 1.0000 - 3s/epoch - 54ms/step\n",
            "Epoch 69/100\n",
            "61/61 - 3s - loss: 9.5256e-06 - accuracy: 1.0000 - 3s/epoch - 53ms/step\n",
            "Epoch 70/100\n",
            "61/61 - 3s - loss: 9.1144e-06 - accuracy: 1.0000 - 3s/epoch - 53ms/step\n",
            "Epoch 71/100\n",
            "61/61 - 3s - loss: 8.7254e-06 - accuracy: 1.0000 - 3s/epoch - 54ms/step\n",
            "Epoch 72/100\n",
            "61/61 - 3s - loss: 8.3559e-06 - accuracy: 1.0000 - 3s/epoch - 54ms/step\n",
            "Epoch 73/100\n",
            "61/61 - 3s - loss: 8.0093e-06 - accuracy: 1.0000 - 3s/epoch - 53ms/step\n",
            "Epoch 74/100\n",
            "61/61 - 3s - loss: 7.6688e-06 - accuracy: 1.0000 - 3s/epoch - 54ms/step\n",
            "Epoch 75/100\n",
            "61/61 - 3s - loss: 7.3460e-06 - accuracy: 1.0000 - 3s/epoch - 54ms/step\n",
            "Epoch 76/100\n",
            "61/61 - 3s - loss: 7.0465e-06 - accuracy: 1.0000 - 3s/epoch - 54ms/step\n",
            "Epoch 77/100\n",
            "61/61 - 3s - loss: 6.7623e-06 - accuracy: 1.0000 - 3s/epoch - 54ms/step\n",
            "Epoch 78/100\n",
            "61/61 - 3s - loss: 6.4811e-06 - accuracy: 1.0000 - 3s/epoch - 54ms/step\n",
            "Epoch 79/100\n",
            "61/61 - 3s - loss: 6.2167e-06 - accuracy: 1.0000 - 3s/epoch - 54ms/step\n",
            "Epoch 80/100\n",
            "61/61 - 3s - loss: 5.9645e-06 - accuracy: 1.0000 - 3s/epoch - 54ms/step\n",
            "Epoch 81/100\n",
            "61/61 - 3s - loss: 5.7264e-06 - accuracy: 1.0000 - 3s/epoch - 54ms/step\n",
            "Epoch 82/100\n",
            "61/61 - 3s - loss: 5.4925e-06 - accuracy: 1.0000 - 3s/epoch - 53ms/step\n",
            "Epoch 83/100\n",
            "61/61 - 3s - loss: 5.2758e-06 - accuracy: 1.0000 - 3s/epoch - 54ms/step\n",
            "Epoch 84/100\n",
            "61/61 - 3s - loss: 5.0657e-06 - accuracy: 1.0000 - 3s/epoch - 54ms/step\n",
            "Epoch 85/100\n",
            "61/61 - 3s - loss: 4.8642e-06 - accuracy: 1.0000 - 3s/epoch - 54ms/step\n",
            "Epoch 86/100\n",
            "61/61 - 3s - loss: 4.6671e-06 - accuracy: 1.0000 - 3s/epoch - 54ms/step\n",
            "Epoch 87/100\n",
            "61/61 - 3s - loss: 4.4866e-06 - accuracy: 1.0000 - 3s/epoch - 54ms/step\n",
            "Epoch 88/100\n",
            "61/61 - 3s - loss: 4.3101e-06 - accuracy: 1.0000 - 3s/epoch - 53ms/step\n",
            "Epoch 89/100\n",
            "61/61 - 3s - loss: 4.1369e-06 - accuracy: 1.0000 - 3s/epoch - 53ms/step\n",
            "Epoch 90/100\n",
            "61/61 - 3s - loss: 3.9753e-06 - accuracy: 1.0000 - 3s/epoch - 54ms/step\n",
            "Epoch 91/100\n",
            "61/61 - 3s - loss: 3.8192e-06 - accuracy: 1.0000 - 3s/epoch - 53ms/step\n",
            "Epoch 92/100\n",
            "61/61 - 3s - loss: 3.6712e-06 - accuracy: 1.0000 - 3s/epoch - 53ms/step\n",
            "Epoch 93/100\n",
            "61/61 - 3s - loss: 3.5312e-06 - accuracy: 1.0000 - 3s/epoch - 54ms/step\n",
            "Epoch 94/100\n",
            "61/61 - 3s - loss: 3.3949e-06 - accuracy: 1.0000 - 3s/epoch - 54ms/step\n",
            "Epoch 95/100\n",
            "61/61 - 3s - loss: 3.2643e-06 - accuracy: 1.0000 - 3s/epoch - 53ms/step\n",
            "Epoch 96/100\n",
            "61/61 - 3s - loss: 3.1374e-06 - accuracy: 1.0000 - 3s/epoch - 54ms/step\n",
            "Epoch 97/100\n",
            "61/61 - 3s - loss: 3.0165e-06 - accuracy: 1.0000 - 3s/epoch - 54ms/step\n",
            "Epoch 98/100\n",
            "61/61 - 3s - loss: 2.8994e-06 - accuracy: 1.0000 - 3s/epoch - 53ms/step\n",
            "Epoch 99/100\n",
            "61/61 - 3s - loss: 2.7916e-06 - accuracy: 1.0000 - 3s/epoch - 54ms/step\n",
            "Epoch 100/100\n",
            "61/61 - 3s - loss: 2.6838e-06 - accuracy: 1.0000 - 3s/epoch - 53ms/step\n"
          ]
        }
      ],
      "source": [
        "history = model.fit(x_train, y_train, batch_size=32, epochs=100, verbose=2)"
      ]
    },
    {
      "cell_type": "code",
      "execution_count": 42,
      "metadata": {
        "id": "74BlISzU5wI4",
        "colab": {
          "base_uri": "https://localhost:8080/"
        },
        "outputId": "ac824bf0-3276-49aa-ffec-6b330c0479ae"
      },
      "outputs": [
        {
          "output_type": "stream",
          "name": "stdout",
          "text": [
            "61/61 - 2s - loss: 2.6025e-06 - accuracy: 1.0000 - 2s/epoch - 29ms/step\n",
            "Train Loss 2.6025340957858134e-06\n",
            "Train Accuracy 1.0\n"
          ]
        }
      ],
      "source": [
        "# Danh gia ve do chinh xac cua mo hinh \n",
        "Score=model.evaluate(x_train,y_train,verbose=2)\n",
        "print('Train Loss', Score[0])\n",
        "print('Train Accuracy', Score[1])"
      ]
    },
    {
      "cell_type": "code",
      "execution_count": 43,
      "metadata": {
        "id": "_pqG9LPg6Kfi",
        "colab": {
          "base_uri": "https://localhost:8080/",
          "height": 312
        },
        "outputId": "0a7a0c5b-e0fa-485f-bef1-df2dd596a465"
      },
      "outputs": [
        {
          "output_type": "execute_result",
          "data": {
            "text/plain": [
              "<function matplotlib.pyplot.show(*args, **kw)>"
            ]
          },
          "metadata": {},
          "execution_count": 43
        },
        {
          "output_type": "display_data",
          "data": {
            "text/plain": [
              "<Figure size 432x288 with 1 Axes>"
            ],
            "image/png": "[encoded data removed]"
          },
          "metadata": {
            "needs_background": "light"
          }
        }
      ],
      "source": [
        "# Ve do thi giua sai so (Loss) va do chinh xac (Accuracy)\n",
        "plt.plot(history.history['accuracy'])\n",
        "plt.plot(history.history['loss'])\n",
        "plt.title('Model Accuracy')\n",
        "plt.ylabel('Accuracy')\n",
        "plt.xlabel('Epochs')\n",
        "plt.legend(['Train','Validation'])\n",
        "plt.show"
      ]
    },
    {
      "cell_type": "code",
      "execution_count": 45,
      "metadata": {
        "id": "SIdBCABS6VoP"
      },
      "outputs": [],
      "source": [
        "# Luu lai\n",
        "model.save(\"Nhan_dien_Hatgao.h5\")"
      ]
    },
    {
      "cell_type": "code",
      "execution_count": 46,
      "metadata": {
        "id": "VHPMF7Yu6YKs"
      },
      "outputs": [],
      "source": [
        "# Tai mo hinh\n",
        "model_ANN=load_model('Nhan_dien_Hatgao.h5')"
      ]
    },
    {
      "cell_type": "code",
      "execution_count": 47,
      "metadata": {
        "id": "KoYV1bly6Zp_"
      },
      "outputs": [],
      "source": [
        "class_names = [\"Arborio\", \"Basmati\", \"Ipsala\",\"Jasmine\",\"Karacadag\",\"gao bac huong\",\"gao luc\",\"gao nang thom\",\"gao nep\",\"gao thom thai\"]"
      ]
    },
    {
      "cell_type": "code",
      "execution_count": 61,
      "metadata": {
        "id": "8wedpNbb6bT4",
        "colab": {
          "base_uri": "https://localhost:8080/",
          "height": 356
        },
        "outputId": "80d8a31d-7c60-425e-e4e7-171479b61833"
      },
      "outputs": [
        {
          "output_type": "stream",
          "name": "stdout",
          "text": [
            "1/1 [==============================] - 0s 26ms/step\n",
            "[[9.9909711e-01 8.4961538e-10 8.9656794e-04 8.2299410e-12 6.3516245e-06\n",
            "  1.8520862e-34 9.2516967e-33 1.7853652e-34 5.1462148e-36 6.5307288e-31]]\n",
            "Kết quả:  Arborio\n",
            "Độ chính xác:  0.9990971\n"
          ]
        },
        {
          "output_type": "display_data",
          "data": {
            "text/plain": [
              "<Figure size 432x288 with 1 Axes>"
            ],
            "image/png": "[encoded data removed]"
          },
          "metadata": {
            "needs_background": "light"
          }
        }
      ],
      "source": [
        "from tensorflow.keras.utils import load_img\n",
        "from keras.utils.image_utils import img_to_array\n",
        "import numpy as np\n",
        "\n",
        "url = \"/content/drive/MyDrive/Hat gao/Test/Arborio/Bản sao của Arborio (9).jpg\"\n",
        "img = load_img(url, target_size=(224,224,3))\n",
        "plt.imshow(img)\n",
        "img = img_to_array(img)\n",
        "img = img.reshape(1, 224,224,3)\n",
        "img = img.astype(\"float32\")\n",
        "img = img/255\n",
        "img = img.reshape(-1, 224,224,3)\n",
        "\n",
        "prediction = model.predict(img)\n",
        "np.argmax(prediction, axis=1)\n",
        "index = -1\n",
        "max_value = -1\n",
        "\n",
        "for i in range(0, len(prediction[0])):\n",
        "  if max_value < prediction[0][i]:\n",
        "    max_value = prediction[0][i]\n",
        "    index = i\n",
        "print(prediction)\n",
        "print(\"Kết quả: \", class_names[index])\n",
        "print(\"Độ chính xác: \", max_value)"
      ]
    }
  ],
  "metadata": {
    "accelerator": "GPU",
    "colab": {
      "collapsed_sections": [],
      "provenance": [],
      "authorship_tag": "ABX9TyPpKNtQpESJTa0bohZ/ig28",
      "include_colab_link": true
    },
    "gpuClass": "standard",
    "kernelspec": {
      "display_name": "Python 3",
      "name": "python3"
    },
    "language_info": {
      "name": "python"
    }
  },
  "nbformat": 4,
  "nbformat_minor": 0
}
